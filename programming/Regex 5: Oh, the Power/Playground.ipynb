{
 "cells": [
  {
   "cell_type": "code",
   "execution_count": 67,
   "metadata": {
    "collapsed": false
   },
   "outputs": [],
   "source": [
    "import re\n",
    "import random\n",
    "\n",
    "def grade(flag, power):\n",
    "    limit = 5\n",
    "    upper = power**(limit-1) + 1\n",
    "    powers = [power**i for i in range(limit)]\n",
    "    flag = flag\n",
    "    \n",
    "    print(\"Powers\")\n",
    "    print()\n",
    "    for i, power in enumerate(powers):\n",
    "        s = 'x' * power\n",
    "        print(re.match(flag, s) is not None, '\\t', i)\n",
    "    print()\n",
    "    print()\n",
    "        \n",
    "    print(\"Random\")\n",
    "    print()\n",
    "    for i in range(20):\n",
    "        times = random.randint(1, upper)\n",
    "        s = 'x' * times\n",
    "        if times in powers:\n",
    "            print(\"Ski\", '\\t', i, times)\n",
    "            continue\n",
    "        print(re.match(flag, s) is None, '\\t', i, times)\n",
    "    \n",
    "    print()\n",
    "    print()\n",
    "        \n",
    "    print(\"All\", flush=True)\n",
    "    print()\n",
    "    \n",
    "    for i in range(1, upper):\n",
    "        if i in powers:\n",
    "            continue\n",
    "        s = 'x' * i\n",
    "        if re.match(flag, s) is not None:\n",
    "            print(re.match(flag, s) is None, '\\t', i, times, flush=True)\n",
    "    \n",
    "    print()\n",
    "    print()\n",
    "    \n",
    "    print(\"Done\")\n",
    "            "
   ]
  },
  {
   "cell_type": "code",
   "execution_count": 61,
   "metadata": {
    "collapsed": false
   },
   "outputs": [
    {
     "name": "stdout",
     "output_type": "stream",
     "text": [
      "Powers\n",
      "\n",
      "True \t 0\n",
      "True \t 1\n",
      "True \t 2\n",
      "True \t 3\n",
      "True \t 4\n",
      "True \t 5\n",
      "\n",
      "\n",
      "Random\n",
      "\n",
      "True \t 0 22\n",
      "True \t 1 19\n",
      "Ski \t 2 2\n",
      "True \t 3 13\n",
      "True \t 4 21\n",
      "True \t 5 12\n",
      "True \t 6 33\n",
      "True \t 7 5\n",
      "True \t 8 6\n",
      "True \t 9 26\n",
      "Ski \t 10 8\n",
      "True \t 11 22\n",
      "True \t 12 9\n",
      "True \t 13 27\n",
      "True \t 14 21\n",
      "True \t 15 22\n",
      "Ski \t 16 16\n",
      "True \t 17 18\n",
      "Ski \t 18 16\n",
      "True \t 19 21\n",
      "\n",
      "\n",
      "All\n",
      "\n",
      "\n",
      "\n",
      "Done\n"
     ]
    }
   ],
   "source": [
    "grade(r'^(?!(x(?:xx)+)\\1*$)', 2)"
   ]
  },
  {
   "cell_type": "code",
   "execution_count": 68,
   "metadata": {
    "collapsed": false
   },
   "outputs": [
    {
     "name": "stdout",
     "output_type": "stream",
     "text": [
      "Powers\n",
      "\n",
      "True \t 0\n",
      "True \t 1\n",
      "True \t 2\n",
      "True \t 3\n",
      "True \t 4\n",
      "\n",
      "\n",
      "Random\n",
      "\n",
      "True \t 0 35\n",
      "True \t 1 65\n",
      "True \t 2 24\n",
      "True \t 3 18\n",
      "True \t 4 17\n",
      "True \t 5 57\n",
      "True \t 6 18\n",
      "True \t 7 17\n",
      "True \t 8 61\n",
      "True \t 9 57\n",
      "True \t 10 30\n",
      "True \t 11 6\n",
      "True \t 12 71\n",
      "True \t 13 68\n",
      "True \t 14 5\n",
      "True \t 15 4\n",
      "True \t 16 79\n",
      "True \t 17 50\n",
      "True \t 18 49\n",
      "True \t 19 69\n",
      "\n",
      "\n",
      "All\n",
      "\n",
      "\n",
      "\n",
      "Done\n"
     ]
    }
   ],
   "source": [
    "grade(r'^(?:(x+)\\1(?=\\1$))*x$', 3)"
   ]
  },
  {
   "cell_type": "code",
   "execution_count": 69,
   "metadata": {
    "collapsed": false
   },
   "outputs": [
    {
     "name": "stdout",
     "output_type": "stream",
     "text": [
      "Powers\n",
      "\n",
      "True \t 0\n",
      "True \t 1\n",
      "True \t 2\n",
      "True \t 3\n",
      "True \t 4\n",
      "\n",
      "\n",
      "Random\n",
      "\n",
      "Ski \t 0 16\n",
      "True \t 1 9\n",
      "True \t 2 7\n",
      "True \t 3 10\n",
      "True \t 4 9\n",
      "True \t 5 14\n",
      "True \t 6 9\n",
      "True \t 7 14\n",
      "True \t 8 5\n",
      "True \t 9 13\n",
      "Ski \t 10 4\n",
      "Ski \t 11 16\n",
      "True \t 12 13\n",
      "Ski \t 13 16\n",
      "True \t 14 15\n",
      "True \t 15 3\n",
      "True \t 16 10\n",
      "True \t 17 17\n",
      "True \t 18 6\n",
      "Ski \t 19 2\n",
      "\n",
      "\n",
      "All\n",
      "\n",
      "\n",
      "\n",
      "Done\n"
     ]
    }
   ],
   "source": [
    "grade(r'^(?:(x+)(?=\\1$))*x$', 2)"
   ]
  },
  {
   "cell_type": "code",
   "execution_count": 70,
   "metadata": {
    "collapsed": false
   },
   "outputs": [
    {
     "name": "stdout",
     "output_type": "stream",
     "text": [
      "Powers\n",
      "\n",
      "True \t 0\n",
      "True \t 1\n",
      "True \t 2\n",
      "True \t 3\n",
      "True \t 4\n",
      "\n",
      "\n",
      "Random\n",
      "\n",
      "True \t 0 75\n",
      "True \t 1 284\n",
      "True \t 2 254\n",
      "True \t 3 403\n",
      "True \t 4 438\n",
      "True \t 5 551\n",
      "True \t 6 543\n",
      "True \t 7 389\n",
      "True \t 8 391\n",
      "True \t 9 592\n",
      "True \t 10 353\n",
      "True \t 11 493\n",
      "True \t 12 490\n",
      "True \t 13 589\n",
      "True \t 14 39\n",
      "True \t 15 70\n",
      "True \t 16 61\n",
      "True \t 17 572\n",
      "True \t 18 162\n",
      "True \t 19 81\n",
      "\n",
      "\n",
      "All\n",
      "\n",
      "\n",
      "\n",
      "Done\n"
     ]
    }
   ],
   "source": [
    "grade(r'^(?:(x+)\\1{3}(?=\\1$))*x$', 5)"
   ]
  },
  {
   "cell_type": "code",
   "execution_count": 72,
   "metadata": {
    "collapsed": false
   },
   "outputs": [
    {
     "name": "stdout",
     "output_type": "stream",
     "text": [
      "Powers\n",
      "\n",
      "True \t 0\n",
      "False \t 1\n",
      "False \t 2\n",
      "False \t 3\n",
      "False \t 4\n",
      "\n",
      "\n",
      "Random\n",
      "\n",
      "True \t 0 282\n",
      "True \t 1 492\n",
      "True \t 2 199\n",
      "True \t 3 130\n",
      "True \t 4 212\n",
      "True \t 5 259\n",
      "True \t 6 10\n",
      "True \t 7 435\n",
      "True \t 8 157\n",
      "True \t 9 608\n",
      "True \t 10 601\n",
      "True \t 11 611\n",
      "True \t 12 191\n",
      "True \t 13 176\n",
      "True \t 14 436\n",
      "True \t 15 369\n",
      "False \t 16 64\n",
      "True \t 17 123\n",
      "True \t 18 552\n",
      "True \t 19 513\n",
      "\n",
      "\n",
      "All\n",
      "\n",
      "False \t 4 513\n",
      "False \t 16 513\n",
      "False \t 64 513\n",
      "False \t 256 513\n",
      "\n",
      "\n",
      "Done\n"
     ]
    }
   ],
   "source": [
    "grade(r'^(?:(x+)\\1{2}(?=\\1$))*x$', 5)"
   ]
  },
  {
   "cell_type": "code",
   "execution_count": null,
   "metadata": {
    "collapsed": true
   },
   "outputs": [],
   "source": []
  },
  {
   "cell_type": "code",
   "execution_count": null,
   "metadata": {
    "collapsed": true
   },
   "outputs": [],
   "source": []
  }
 ],
 "metadata": {
  "kernelspec": {
   "display_name": "Python 3",
   "language": "python",
   "name": "python3"
  },
  "language_info": {
   "codemirror_mode": {
    "name": "ipython",
    "version": 3
   },
   "file_extension": ".py",
   "mimetype": "text/x-python",
   "name": "python",
   "nbconvert_exporter": "python",
   "pygments_lexer": "ipython3",
   "version": "3.5.1"
  }
 },
 "nbformat": 4,
 "nbformat_minor": 0
}
