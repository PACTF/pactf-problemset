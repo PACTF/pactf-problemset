{
 "cells": [
  {
   "cell_type": "code",
   "execution_count": 18,
   "metadata": {
    "collapsed": false
   },
   "outputs": [],
   "source": [
    "import re\n",
    "import random\n",
    "\n",
    "def grade(flag, power):\n",
    "    limit = 6\n",
    "    upper = power**(limit-1) + 1\n",
    "    powers = [power**i for i in range(limit)]\n",
    "    flag = '^' + flag + '$'\n",
    "    \n",
    "    for i, power in enumerate(powers):\n",
    "        s = 'x' * power\n",
    "        print(re.match(flag, s) is not None, '\\t', i)\n",
    "    print()\n",
    "    print()\n",
    "        \n",
    "    for i in range(20):\n",
    "        times = random.randint(1, upper)\n",
    "        s = 'x' * times\n",
    "        if times in powers:\n",
    "            print(\"Skip\", '\\t', i, times)\n",
    "            continue\n",
    "        print(re.match(flag, s) is None, '\\t', i, times)\n",
    "            "
   ]
  },
  {
   "cell_type": "code",
   "execution_count": 19,
   "metadata": {
    "collapsed": false
   },
   "outputs": [
    {
     "name": "stdout",
     "output_type": "stream",
     "text": [
      "power\n",
      "True \t 0\n",
      "False \t 1\n",
      "False \t 2\n",
      "False \t 3\n",
      "False \t 4\n",
      "False \t 5\n",
      "random\n",
      "True \t 0 17\n",
      "True \t 1 33\n",
      "True \t 2 21\n",
      "True \t 3 25\n",
      "True \t 4 14\n",
      "True \t 5 23\n",
      "Skip \t 6 32\n",
      "True \t 7 22\n",
      "True \t 8 20\n",
      "True \t 9 14\n",
      "True \t 10 21\n",
      "True \t 11 26\n",
      "True \t 12 11\n",
      "True \t 13 23\n",
      "True \t 14 3\n",
      "True \t 15 10\n",
      "True \t 16 22\n",
      "True \t 17 9\n",
      "True \t 18 12\n",
      "True \t 19 9\n"
     ]
    }
   ],
   "source": [
    "grade('x', 2)"
   ]
  },
  {
   "cell_type": "code",
   "execution_count": null,
   "metadata": {
    "collapsed": true
   },
   "outputs": [],
   "source": []
  }
 ],
 "metadata": {
  "kernelspec": {
   "display_name": "Python 3",
   "language": "python",
   "name": "python3"
  },
  "language_info": {
   "codemirror_mode": {
    "name": "ipython",
    "version": 3
   },
   "file_extension": ".py",
   "mimetype": "text/x-python",
   "name": "python",
   "nbconvert_exporter": "python",
   "pygments_lexer": "ipython3",
   "version": "3.5.1"
  }
 },
 "nbformat": 4,
 "nbformat_minor": 0
}
