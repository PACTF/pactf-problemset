{
 "cells": [
  {
   "cell_type": "code",
   "execution_count": 122,
   "metadata": {
    "collapsed": true
   },
   "outputs": [],
   "source": [
    "from faker import Faker\n",
    "fake = Faker()\n",
    "import re"
   ]
  },
  {
   "cell_type": "code",
   "execution_count": 135,
   "metadata": {
    "collapsed": false
   },
   "outputs": [],
   "source": [
    "flag_line_no = 612\n",
    "total_lines = 1078\n",
    "\n",
    "fields_per_line = 71  # would take a day with 4 cores for one line\n",
    "flag_field = 65\n",
    "name_fields = [29, 23, 1, 13, 21, 43, 61, 51, 17, 18, 19, 20]\n",
    "name_field = name_fields[0]\n",
    "\n",
    "flag = 'zalgo_is_tony_the_pony'\n",
    "name = 'clement_hudson'"
   ]
  },
  {
   "cell_type": "code",
   "execution_count": 138,
   "metadata": {
    "collapsed": false
   },
   "outputs": [],
   "source": [
    "with open('haystack.csv', 'w') as outfile:\n",
    "    for line_no in range(total_lines):\n",
    "        line = \"\"\n",
    "\n",
    "        for field in range(fields_per_line):\n",
    "\n",
    "            if field == 0:\n",
    "                text = fake.numerify()\n",
    "            elif field in name_fields:\n",
    "                text = fake.name().lower()\n",
    "                while text.startswith(name[0]) and text.endswith(name[-1]):\n",
    "                    text = fake.name().lower()\n",
    "            else:\n",
    "                text = fake.bs()\n",
    "\n",
    "\n",
    "            if line_no == flag_line_no:\n",
    "                if field == flag_field:                \n",
    "                    text = flag\n",
    "                elif field == name_field:\n",
    "                    text = name\n",
    "\n",
    "            text = text.lower().replace(' ', '_')\n",
    "            line += text + ','\n",
    "        line = line[:-1] + '\\n'\n",
    "        outfile.write(line)"
   ]
  },
  {
   "cell_type": "code",
   "execution_count": 132,
   "metadata": {
    "collapsed": false
   },
   "outputs": [
    {
     "name": "stdout",
     "output_type": "stream",
     "text": [
      "(0, 'fail')\n",
      "(1, ('dr._ace_kilback_iv',), '651,duff_carroll,redefine_cutting-edge_models,envisioneer_user-centric_web-readiness,target_vertical_roi,orchestrate_dynamic_solutions,architect_dynamic_eyeballs,integrate_turn-key_e-markets,extend_end-to-end_content,productize_synergistic_mindshare,utilize_customized_eyeballs,implement_clicks-and-mortar_communities,target_cross-platform_systems,nolan_doyle,matrix_strategic_content,envisioneer_frictionless_niches,innovate_dynamic_initiatives,kyan_bradtke,lorenz_will,adrienne_morissette_dvm,niki_fahey,shannen_kiehn,harness_impactful_info-mediaries,marnita_schamberger_dvm,monetize_cutting-edge_initiatives,productize_global_applications,architect_world-class_architectures,enable_open-source_users,scale_value-added_channels,re-contextualize_leading-edge_models,integrate_bleeding-edge_models,synergize_distributed_networks,craig_brown,re-intermediate_sticky_applications,orchestrate_holistic_users,leverage_front-end_experiences,scale_web-enabled_solutions,streamline_proactive_partnerships,deliver_revolutionary_communities,harness_web-enabled_bandwidth,deploy_visionary_relationships,iterate_extensible_web-readiness,monetize_impactful_applications,coen_ziemann,cultivate_rich_networks,re-contextualize_end-to-end_supply-chains,deliver_end-to-end_e-tailers,enhance_end-to-end_functionalities,revolutionize_killer_mindshare,monetize_magnetic_relationships,leverage_sexy_supply-chains,dr._ace_kilback_iv,reinvent_cutting-edge_markets,envisioneer_mission-critical_web-readiness,benchmark_mission-critical_info-mediaries,implement_bleeding-edge_communities,morph_vertical_relationships,enhance_efficient_e-commerce,incentivize_24/7_markets,unleash_clicks-and-mortar_markets,strategize_collaborative_relationships,bode_spencer,empower_clicks-and-mortar_synergies,strategize_cross-platform_e-markets,revolutionize_rich_vortals,cultivate_granular_networks,transform_out-of-the-box_interfaces,repurpose_mission-critical_users,maximize_clicks-and-mortar_markets,innovate_granular_supply-chains,innovate_plug-and-play_web-readiness\\n')\n",
      "(2, 'fail')\n",
      "(3, 'fail')\n",
      "(4, 'fail')\n",
      "(5, 'fail')\n",
      "(6, ('latesha_schaefer',), '546,buena_fadel,transform_proactive_e-tailers,maximize_value-added_systems,repurpose_magnetic_convergence,deliver_extensible_metrics,e-enable_rich_deliverables,implement_bleeding-edge_e-services,syndicate_strategic_technologies,matrix_cross-platform_users,envisioneer_front-end_experiences,aggregate_plug-and-play_supply-chains,engage_enterprise_schemas,kirstie_baumbach,engage_wireless_e-commerce,unleash_impactful_supply-chains,brand_turn-key_e-business,erie_corkery,dr._rafe_davis,maralyn_bayer,marisol_marks,jenni_hand,engineer_robust_markets,mr._willard_klocko_phd,innovate_user-centric_action-items,brand_wireless_applications,incentivize_mission-critical_synergies,innovate_next-generation_convergence,morph_customized_channels,reinvent_scalable_relationships,enable_rich_content,maximize_web-enabled_paradigms,clement_hudson,empower_scalable_e-tailers,revolutionize_impactful_initiatives,deliver_global_content,iterate_web-enabled_portals,redefine_killer_solutions,enhance_b2b_initiatives,leverage_cross-media_e-services,transition_enterprise_eyeballs,cultivate_end-to-end_users,matrix_plug-and-play_action-items,kendal_langworth,utilize_24/7_deliverables,deploy_dot-com_systems,re-intermediate_extensible_web-readiness,deploy_seamless_deliverables,strategize_b2b_bandwidth,re-intermediate_innovative_convergence,harness_web-enabled_communities,latesha_schaefer,deploy_revolutionary_partnerships,empower_dot-com_interfaces,innovate_dynamic_web_services,repurpose_web-enabled_bandwidth,aggregate_front-end_web_services,deliver_synergistic_networks,streamline_web-enabled_communities,e-enable_holistic_systems,maximize_impactful_e-markets,janeen_fadel,transform_front-end_supply-chains,visualize_frictionless_web-readiness,e-enable_turn-key_web-readiness,zalgo_is_tony_the_pony,monetize_magnetic_models,architect_value-added_interfaces,implement_cross-platform_infrastructures,synergize_revolutionary_platforms,synthesize_bricks-and-clicks_relationships\\n')\n",
      "(7, 'fail')\n",
      "(8, 'fail')\n",
      "(9, 'fail')\n"
     ]
    }
   ],
   "source": []
  },
  {
   "cell_type": "code",
   "execution_count": null,
   "metadata": {
    "collapsed": false
   },
   "outputs": [],
   "source": []
  },
  {
   "cell_type": "code",
   "execution_count": null,
   "metadata": {
    "collapsed": true
   },
   "outputs": [],
   "source": []
  },
  {
   "cell_type": "code",
   "execution_count": null,
   "metadata": {
    "collapsed": true
   },
   "outputs": [],
   "source": []
  }
 ],
 "metadata": {
  "kernelspec": {
   "display_name": "Python 2",
   "language": "python",
   "name": "python2"
  },
  "language_info": {
   "codemirror_mode": {
    "name": "ipython",
    "version": 2
   },
   "file_extension": ".py",
   "mimetype": "text/x-python",
   "name": "python",
   "nbconvert_exporter": "python",
   "pygments_lexer": "ipython2",
   "version": "2.7.11"
  }
 },
 "nbformat": 4,
 "nbformat_minor": 0
}
