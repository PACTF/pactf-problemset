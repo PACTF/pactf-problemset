{
 "cells": [
  {
   "cell_type": "code",
   "execution_count": 2,
   "metadata": {
    "collapsed": true
   },
   "outputs": [],
   "source": [
    "import os\n",
    "from os.path import isfile, join, dirname\n",
    "from termcolor import colored"
   ]
  },
  {
   "cell_type": "code",
   "execution_count": null,
   "metadata": {
    "collapsed": true
   },
   "outputs": [],
   "source": [
    "def subdirs(directory):\n",
    "    \"\"\"Yield the basename and path of sub-directories not prefixed with an underscore or a dot\"\"\"\n",
    "\n",
    "    print(\"Walking directory '{}'\".format(directory))\n",
    "    for basename in os.listdir(directory):\n",
    "        print()\n",
    "        path = join(directory, basename)\n",
    "\n",
    "        # Skip files\n",
    "        if isfile(path):\n",
    "            print(\"Ignoring '{}': Is file\".format(basename))\n",
    "            continue\n",
    "\n",
    "        # Ignore private dirs\n",
    "        if basename.startswith('_') or basename.startswith('.'):\n",
    "            print(\"Ignoring '{}': Marked private with underscore or dot\".format(basename))\n",
    "            continue\n",
    "\n",
    "        yield basename, path\n",
    "        \n",
    "def warn(text):\n",
    "    print(colored(text, 'red'))\n",
    "\n",
    "def main():\n",
    "    \n",
    "    # Rotate over problem folders\n",
    "    PROBLEMS_DIR = '.'\n",
    "    for window_basename, window_path in self.walk(PROBLEMS_DIR):\n",
    "        for prob_basename, prob_path in self.walk(window_path):\n",
    "\n",
    "            # Load problem file\n",
    "            problem_filename = join(prob_path, 'problem.yaml')\n",
    "            try:\n",
    "                with open(problem_filename) as problem_file:\n",
    "                    data = yaml.load(problem_file)\n",
    "            except (IsADirectoryError, FileNotFoundError) as err:\n",
    "                print(\"Skipping '{}': No problems file found\".format(prob_basename))\n",
    "                print(err)\n",
    "                continue\n",
    "            except yaml.parser.ParserError as err:\n",
    "                print(\"Skipping '{}': Parser error\".format(prob_basename))\n",
    "                print(err)\n",
    "                continue\n",
    "\n",
    "                "
   ]
  }
 ],
 "metadata": {
  "kernelspec": {
   "display_name": "Python 3",
   "language": "python",
   "name": "python3"
  },
  "language_info": {
   "codemirror_mode": {
    "name": "ipython",
    "version": 3
   },
   "file_extension": ".py",
   "mimetype": "text/x-python",
   "name": "python",
   "nbconvert_exporter": "python",
   "pygments_lexer": "ipython3",
   "version": "3.5.1"
  }
 },
 "nbformat": 4,
 "nbformat_minor": 0
}
